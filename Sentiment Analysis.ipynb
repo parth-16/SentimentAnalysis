{
 "cells": [
  {
   "cell_type": "markdown",
   "id": "5ae3faad",
   "metadata": {
    "id": "5ae3faad"
   },
   "source": [
    "### 1. IMPORTING NECESSARY LIBRARIES"
   ]
  },
  {
   "cell_type": "code",
   "execution_count": 1,
   "id": "9f74d498",
   "metadata": {
    "id": "9f74d498"
   },
   "outputs": [],
   "source": [
    "import re\n",
    "import numpy as np\n",
    "import pandas as pd\n",
    "import seaborn as sns\n",
    "import matplotlib.pyplot as plt\n",
    "from nltk.stem import WordNetLemmatizer\n",
    "from sklearn.linear_model import LogisticRegression\n",
    "from sklearn.neighbors import KNeighborsClassifier\n",
    "from sklearn.naive_bayes import MultinomialNB\n",
    "from sklearn.ensemble import RandomForestClassifier\n",
    "from sklearn.svm import SVC\n",
    "from sklearn.metrics import accuracy_score, confusion_matrix\n",
    "from sklearn.model_selection import train_test_split\n",
    "from sklearn.feature_extraction.text import TfidfVectorizer"
   ]
  },
  {
   "cell_type": "markdown",
   "id": "e18ea56a",
   "metadata": {
    "id": "e18ea56a"
   },
   "source": [
    "### 2. IMPORTING THE DATASET"
   ]
  },
  {
   "cell_type": "code",
   "execution_count": 2,
   "id": "1319ff53",
   "metadata": {
    "id": "1319ff53"
   },
   "outputs": [
    {
     "data": {
      "text/plain": [
       "(1600000, 6)"
      ]
     },
     "execution_count": 2,
     "metadata": {},
     "output_type": "execute_result"
    }
   ],
   "source": [
    "Columns=['target','ID','date','flag','user','tweet']\n",
    "Encoding = \"ISO-8859-1\"\n",
    "df = pd.read_csv('D:\\Projects\\Sentiment Analysis\\SA_DATA.csv', encoding=Encoding, names=Columns)\n",
    "df.shape"
   ]
  },
  {
   "cell_type": "markdown",
   "id": "b7ea237b",
   "metadata": {
    "id": "b7ea237b"
   },
   "source": [
    "### 3. EXPLORATORY DATA ANALYSIS"
   ]
  },
  {
   "cell_type": "code",
   "execution_count": 3,
   "id": "7a8acf8b",
   "metadata": {
    "colab": {
     "base_uri": "https://localhost:8080/",
     "height": 206
    },
    "id": "7a8acf8b",
    "outputId": "05cd3753-7e1c-44be-ccfe-bdea736b75ea"
   },
   "outputs": [
    {
     "data": {
      "text/html": [
       "<div>\n",
       "<style scoped>\n",
       "    .dataframe tbody tr th:only-of-type {\n",
       "        vertical-align: middle;\n",
       "    }\n",
       "\n",
       "    .dataframe tbody tr th {\n",
       "        vertical-align: top;\n",
       "    }\n",
       "\n",
       "    .dataframe thead th {\n",
       "        text-align: right;\n",
       "    }\n",
       "</style>\n",
       "<table border=\"1\" class=\"dataframe\">\n",
       "  <thead>\n",
       "    <tr style=\"text-align: right;\">\n",
       "      <th></th>\n",
       "      <th>target</th>\n",
       "      <th>ID</th>\n",
       "      <th>date</th>\n",
       "      <th>flag</th>\n",
       "      <th>user</th>\n",
       "      <th>tweet</th>\n",
       "    </tr>\n",
       "  </thead>\n",
       "  <tbody>\n",
       "    <tr>\n",
       "      <th>0</th>\n",
       "      <td>0</td>\n",
       "      <td>1467810369</td>\n",
       "      <td>Mon Apr 06 22:19:45 PDT 2009</td>\n",
       "      <td>NO_QUERY</td>\n",
       "      <td>_TheSpecialOne_</td>\n",
       "      <td>@switchfoot http://twitpic.com/2y1zl - Awww, t...</td>\n",
       "    </tr>\n",
       "    <tr>\n",
       "      <th>1</th>\n",
       "      <td>0</td>\n",
       "      <td>1467810672</td>\n",
       "      <td>Mon Apr 06 22:19:49 PDT 2009</td>\n",
       "      <td>NO_QUERY</td>\n",
       "      <td>scotthamilton</td>\n",
       "      <td>is upset that he can't update his Facebook by ...</td>\n",
       "    </tr>\n",
       "    <tr>\n",
       "      <th>2</th>\n",
       "      <td>0</td>\n",
       "      <td>1467810917</td>\n",
       "      <td>Mon Apr 06 22:19:53 PDT 2009</td>\n",
       "      <td>NO_QUERY</td>\n",
       "      <td>mattycus</td>\n",
       "      <td>@Kenichan I dived many times for the ball. Man...</td>\n",
       "    </tr>\n",
       "    <tr>\n",
       "      <th>3</th>\n",
       "      <td>0</td>\n",
       "      <td>1467811184</td>\n",
       "      <td>Mon Apr 06 22:19:57 PDT 2009</td>\n",
       "      <td>NO_QUERY</td>\n",
       "      <td>ElleCTF</td>\n",
       "      <td>my whole body feels itchy and like its on fire</td>\n",
       "    </tr>\n",
       "    <tr>\n",
       "      <th>4</th>\n",
       "      <td>0</td>\n",
       "      <td>1467811193</td>\n",
       "      <td>Mon Apr 06 22:19:57 PDT 2009</td>\n",
       "      <td>NO_QUERY</td>\n",
       "      <td>Karoli</td>\n",
       "      <td>@nationwideclass no, it's not behaving at all....</td>\n",
       "    </tr>\n",
       "  </tbody>\n",
       "</table>\n",
       "</div>"
      ],
      "text/plain": [
       "   target          ID                          date      flag  \\\n",
       "0       0  1467810369  Mon Apr 06 22:19:45 PDT 2009  NO_QUERY   \n",
       "1       0  1467810672  Mon Apr 06 22:19:49 PDT 2009  NO_QUERY   \n",
       "2       0  1467810917  Mon Apr 06 22:19:53 PDT 2009  NO_QUERY   \n",
       "3       0  1467811184  Mon Apr 06 22:19:57 PDT 2009  NO_QUERY   \n",
       "4       0  1467811193  Mon Apr 06 22:19:57 PDT 2009  NO_QUERY   \n",
       "\n",
       "              user                                              tweet  \n",
       "0  _TheSpecialOne_  @switchfoot http://twitpic.com/2y1zl - Awww, t...  \n",
       "1    scotthamilton  is upset that he can't update his Facebook by ...  \n",
       "2         mattycus  @Kenichan I dived many times for the ball. Man...  \n",
       "3          ElleCTF    my whole body feels itchy and like its on fire   \n",
       "4           Karoli  @nationwideclass no, it's not behaving at all....  "
      ]
     },
     "execution_count": 3,
     "metadata": {},
     "output_type": "execute_result"
    }
   ],
   "source": [
    "df.head()"
   ]
  },
  {
   "cell_type": "code",
   "execution_count": 4,
   "id": "7788d480",
   "metadata": {
    "id": "7788d480"
   },
   "outputs": [
    {
     "name": "stdout",
     "output_type": "stream",
     "text": [
      "<class 'pandas.core.frame.DataFrame'>\n",
      "RangeIndex: 1600000 entries, 0 to 1599999\n",
      "Data columns (total 2 columns):\n",
      " #   Column  Non-Null Count    Dtype \n",
      "---  ------  --------------    ----- \n",
      " 0   tweet   1600000 non-null  object\n",
      " 1   target  1600000 non-null  int64 \n",
      "dtypes: int64(1), object(1)\n",
      "memory usage: 24.4+ MB\n"
     ]
    }
   ],
   "source": [
    "data=df[['tweet','target']]\n",
    "data.info()"
   ]
  },
  {
   "cell_type": "code",
   "execution_count": 5,
   "id": "b2e3dadc",
   "metadata": {
    "colab": {
     "base_uri": "https://localhost:8080/",
     "height": 472
    },
    "id": "b2e3dadc",
    "outputId": "16ce87fd-85a9-4fc5-f08e-2777ab12e324"
   },
   "outputs": [
    {
     "data": {
      "image/png": "[encoded data removed]",
      "text/plain": [
       "<Figure size 640x480 with 1 Axes>"
      ]
     },
     "metadata": {},
     "output_type": "display_data"
    }
   ],
   "source": [
    "ax = data.groupby('target').count().plot(kind='bar', title='Distribution of data',legend=False)\n",
    "ax.set_xticklabels(['Negative','Positive'], rotation=0)\n",
    "tweet, target = list(data['tweet']), list(data['target'])"
   ]
  },
  {
   "cell_type": "markdown",
   "id": "b587b760",
   "metadata": {
    "id": "b587b760"
   },
   "source": [
    "### 4. DATA PRE-PROCESSING"
   ]
  },
  {
   "cell_type": "code",
   "execution_count": 6,
   "id": "bcbfa550",
   "metadata": {
    "colab": {
     "base_uri": "https://localhost:8080/"
    },
    "id": "bcbfa550",
    "outputId": "c353c25e-4f80-4e8c-d6ef-d0ddcb658dc8"
   },
   "outputs": [
    {
     "name": "stderr",
     "output_type": "stream",
     "text": [
      "C:\\Users\\ASUS\\AppData\\Local\\Temp\\ipykernel_6844\\3152207588.py:1: SettingWithCopyWarning: \n",
      "A value is trying to be set on a copy of a slice from a DataFrame.\n",
      "Try using .loc[row_indexer,col_indexer] = value instead\n",
      "\n",
      "See the caveats in the documentation: https://pandas.pydata.org/pandas-docs/stable/user_guide/indexing.html#returning-a-view-versus-a-copy\n",
      "  data['target'] = data['target'].replace(4,1)\n"
     ]
    },
    {
     "data": {
      "text/plain": [
       "array([0, 1], dtype=int64)"
      ]
     },
     "execution_count": 6,
     "metadata": {},
     "output_type": "execute_result"
    }
   ],
   "source": [
    "data['target'] = data['target'].replace(4,1)\n",
    "data['target'].unique()"
   ]
  },
  {
   "cell_type": "code",
   "execution_count": 7,
   "id": "387aad22",
   "metadata": {
    "colab": {
     "base_uri": "https://localhost:8080/"
    },
    "id": "387aad22",
    "outputId": "419473c9-f075-4205-b442-39efeb0c159e"
   },
   "outputs": [
    {
     "name": "stdout",
     "output_type": "stream",
     "text": [
      "Number of negative tweets (0): 800000\n",
      "Number of positive tweets (1): 800000\n"
     ]
    }
   ],
   "source": [
    "positive_count = data['target'].value_counts()[0]\n",
    "negative_count = data['target'].value_counts()[1]\n",
    "print(f\"Number of negative tweets (0): {negative_count}\")\n",
    "print(f\"Number of positive tweets (1): {positive_count}\")"
   ]
  },
  {
   "cell_type": "code",
   "execution_count": 8,
   "id": "d8d40678",
   "metadata": {
    "id": "d8d40678"
   },
   "outputs": [
    {
     "name": "stdout",
     "output_type": "stream",
     "text": [
      "1    50000\n",
      "0    50000\n",
      "Name: target, dtype: int64\n"
     ]
    }
   ],
   "source": [
    "negative_tweets = data[data['target'] == 0].sample(n=50000, random_state=42)\n",
    "positive_tweets = data[data['target'] == 1].sample(n=50000, random_state=42)\n",
    "\n",
    "data = pd.concat([negative_tweets, positive_tweets])\n",
    "\n",
    "data = data.sample(frac=1, random_state=42).reset_index(drop=True)\n",
    "\n",
    "print(data['target'].value_counts())"
   ]
  },
  {
   "cell_type": "code",
   "execution_count": 9,
   "id": "f300bd1c",
   "metadata": {
    "id": "f300bd1c"
   },
   "outputs": [
    {
     "name": "stdout",
     "output_type": "stream",
     "text": [
      "<class 'pandas.core.frame.DataFrame'>\n",
      "RangeIndex: 100000 entries, 0 to 99999\n",
      "Data columns (total 2 columns):\n",
      " #   Column  Non-Null Count   Dtype \n",
      "---  ------  --------------   ----- \n",
      " 0   tweet   100000 non-null  object\n",
      " 1   target  100000 non-null  int64 \n",
      "dtypes: int64(1), object(1)\n",
      "memory usage: 1.5+ MB\n"
     ]
    }
   ],
   "source": [
    "data.info()"
   ]
  },
  {
   "cell_type": "markdown",
   "id": "4639f8cd",
   "metadata": {
    "id": "4639f8cd"
   },
   "source": [
    "### 4.1 REMOVING STOPWORDS"
   ]
  },
  {
   "cell_type": "code",
   "execution_count": 10,
   "id": "0dddd814",
   "metadata": {
    "colab": {
     "base_uri": "https://localhost:8080/"
    },
    "id": "0dddd814",
    "outputId": "1df5e6ec-85ee-4f20-ba22-ef7c79cf7af2"
   },
   "outputs": [
    {
     "data": {
      "text/plain": [
       "0                          @stargazer60 that's awesome\n",
       "1                          @cunningstunts22 yes... am!\n",
       "2                                  n bed aaallll alone\n",
       "3    @thorney88 guinea fowl ive heard lots people d...\n",
       "4                              def going movies tonite\n",
       "Name: tweet, dtype: object"
      ]
     },
     "execution_count": 10,
     "metadata": {},
     "output_type": "execute_result"
    }
   ],
   "source": [
    "data['tweet']=data['tweet'].str.lower()\n",
    "data['tweet'].head()\n",
    "stopwordlist = ['a', 'about', 'above', 'after', 'again', 'ain', 'all', 'am', 'an',\n",
    "             'and','any','are', 'as', 'at', 'be', 'because', 'been', 'before',\n",
    "             'being', 'below', 'between','both', 'by', 'can', 'd', 'did', 'do',\n",
    "             'does', 'doing', 'down', 'during', 'each','few', 'for', 'from',\n",
    "             'further', 'had', 'has', 'have', 'having', 'he', 'her', 'here',\n",
    "             'hers', 'herself', 'him', 'himself', 'his', 'how', 'i', 'if', 'in',\n",
    "             'into','is', 'it', 'its', 'itself', 'just', 'll', 'm', 'ma',\n",
    "             'me', 'more', 'most','my', 'myself', 'now', 'o', 'of', 'on', 'once',\n",
    "             'only', 'or', 'other', 'our', 'ours','ourselves', 'out', 'own', 're','s', 'same', 'she', \"shes\", 'should', \"shouldve\",'so', 'some', 'such',\n",
    "             't', 'than', 'that', \"thatll\", 'the', 'their', 'theirs', 'them',\n",
    "             'themselves', 'then', 'there', 'these', 'they', 'this', 'those',\n",
    "             'through', 'to', 'too','under', 'until', 'up', 've', 'very', 'was',\n",
    "             'we', 'were', 'what', 'when', 'where','which','while', 'who', 'whom',\n",
    "             'why', 'will', 'with', 'won', 'y', 'you', \"youd\",\"youll\", \"youre\",\n",
    "             \"youve\", 'your', 'yours', 'yourself', 'yourselves']\n",
    "\n",
    "STOPWORDS = set(stopwordlist)\n",
    "\n",
    "def cleaning_stopwords(tweet):\n",
    "    return \" \".join([word for word in str(tweet).split() if word not in STOPWORDS])\n",
    "data['tweet'] = data['tweet'].apply(lambda tweet: cleaning_stopwords(tweet))\n",
    "data['tweet'].head()"
   ]
  },
  {
   "cell_type": "markdown",
   "id": "1955966e",
   "metadata": {
    "id": "1955966e"
   },
   "source": [
    "### 4.2 REMOVING PUNCTUATIONS, REPEATING CHARACTERS, URLs, NUMBERS"
   ]
  },
  {
   "cell_type": "code",
   "execution_count": 11,
   "id": "bc339e10",
   "metadata": {
    "colab": {
     "base_uri": "https://localhost:8080/"
    },
    "id": "bc339e10",
    "outputId": "4ddbadca-e39e-4c84-ef33-9f7e1140ef96"
   },
   "outputs": [
    {
     "data": {
      "text/plain": [
       "0                              stargazer thats awesome\n",
       "1                                  cuningstunts yes am\n",
       "2                                       n bed al alone\n",
       "3    thorney guinea fowl ive heard lots people disl...\n",
       "4                              def going movies tonite\n",
       "Name: tweet, dtype: object"
      ]
     },
     "execution_count": 11,
     "metadata": {},
     "output_type": "execute_result"
    }
   ],
   "source": [
    "import string\n",
    "import re\n",
    "\n",
    "def clean_punctuations(tweet):\n",
    "    punctuations_list = string.punctuation\n",
    "    translator = str.maketrans('', '', punctuations_list)\n",
    "    return tweet.translate(translator)\n",
    "\n",
    "def clean_repeating_chars(tweet):\n",
    "    return re.sub(r'(.)\\1+', r'\\1', tweet)\n",
    "\n",
    "def clean_urls(tweet):\n",
    "    return re.sub(r'((www.[^\\s]+)|(https?://[^\\s]+))', ' ', tweet)\n",
    "\n",
    "def clean_numbers(tweet):\n",
    "    return re.sub(r'[0-9]+', '', tweet)\n",
    "\n",
    "data['tweet'] = data['tweet'].apply(clean_punctuations)\n",
    "data['tweet'] = data['tweet'].apply(clean_repeating_chars)\n",
    "data['tweet'] = data['tweet'].apply(clean_urls)\n",
    "data['tweet'] = data['tweet'].apply(clean_numbers)\n",
    "\n",
    "data['tweet'].head()"
   ]
  },
  {
   "cell_type": "markdown",
   "id": "d4167ff8",
   "metadata": {
    "id": "d4167ff8"
   },
   "source": [
    "### 4.3 PERFORMING STEMMING AND LEMMETIZATION"
   ]
  },
  {
   "cell_type": "code",
   "execution_count": 12,
   "id": "df67b6af",
   "metadata": {
    "colab": {
     "base_uri": "https://localhost:8080/"
    },
    "id": "df67b6af",
    "outputId": "feebb059-7093-4876-9da8-5cb22f3b5ed0"
   },
   "outputs": [
    {
     "name": "stderr",
     "output_type": "stream",
     "text": [
      "[nltk_data] Downloading package punkt to\n",
      "[nltk_data]     C:\\Users\\ASUS\\AppData\\Roaming\\nltk_data...\n",
      "[nltk_data]   Package punkt is already up-to-date!\n",
      "[nltk_data] Downloading package wordnet to\n",
      "[nltk_data]     C:\\Users\\ASUS\\AppData\\Roaming\\nltk_data...\n",
      "[nltk_data]   Package wordnet is already up-to-date!\n",
      "[nltk_data] Downloading package omw-1.4 to\n",
      "[nltk_data]     C:\\Users\\ASUS\\AppData\\Roaming\\nltk_data...\n",
      "[nltk_data]   Package omw-1.4 is already up-to-date!\n"
     ]
    },
    {
     "data": {
      "text/plain": [
       "0                              [stargaz, that, awesom]\n",
       "1                                [cuningstunt, ye, am]\n",
       "2                                   [n, bed, al, alon]\n",
       "3    [thorney, guinea, fowl, ive, heard, lot, peopl...\n",
       "4                               [def, go, movi, tonit]\n",
       "Name: tweet, dtype: object"
      ]
     },
     "execution_count": 12,
     "metadata": {},
     "output_type": "execute_result"
    }
   ],
   "source": [
    "import nltk\n",
    "from nltk.tokenize import word_tokenize\n",
    "from nltk.stem import PorterStemmer, WordNetLemmatizer\n",
    "\n",
    "nltk.download('punkt')\n",
    "nltk.download('wordnet')\n",
    "nltk.download('omw-1.4')\n",
    "\n",
    "data['tweet'] = data['tweet'].apply(lambda x: word_tokenize(x))\n",
    "\n",
    "porter_stemmer = PorterStemmer()\n",
    "data['tweet'] = data['tweet'].apply(lambda x: [porter_stemmer.stem(word) for word in x])\n",
    "\n",
    "wordnet_lemmatizer = WordNetLemmatizer()\n",
    "data['tweet'] = data['tweet'].apply(lambda x: [wordnet_lemmatizer.lemmatize(word) for word in x])\n",
    "\n",
    "data['tweet'].head()"
   ]
  },
  {
   "cell_type": "markdown",
   "id": "5caed2e9",
   "metadata": {
    "id": "5caed2e9"
   },
   "source": [
    "### 4.4 PERFORMING TRAIN-TEST SPLIT"
   ]
  },
  {
   "cell_type": "code",
   "execution_count": 13,
   "id": "023fbf99",
   "metadata": {
    "colab": {
     "base_uri": "https://localhost:8080/"
    },
    "id": "023fbf99",
    "outputId": "96674858-2ff5-499d-c8c0-66db3ea5323c"
   },
   "outputs": [],
   "source": [
    "data['tweet_str'] = data['tweet'].apply(lambda x: ' '.join(x))\n",
    "X_train, X_test, y_train, y_test = train_test_split(data['tweet_str'], data['target'], test_size=0.05, random_state=42)"
   ]
  },
  {
   "cell_type": "markdown",
   "id": "5ea88e9c",
   "metadata": {
    "id": "5ea88e9c"
   },
   "source": [
    "### 4.5 PERFORMING VECTORIZATION"
   ]
  },
  {
   "cell_type": "code",
   "execution_count": 14,
   "id": "a4f90500",
   "metadata": {
    "id": "a4f90500"
   },
   "outputs": [],
   "source": [
    "vectorizer = TfidfVectorizer(ngram_range=(1, 2), max_features=500000)\n",
    "vectorizer.fit(X_train)\n",
    "X_train_vec = vectorizer.transform(X_train)\n",
    "X_test_vec = vectorizer.transform(X_test)"
   ]
  },
  {
   "cell_type": "markdown",
   "id": "ff9dbd31",
   "metadata": {},
   "source": [
    "### MODEL IMPLEMENTATION "
   ]
  },
  {
   "cell_type": "markdown",
   "id": "19922997",
   "metadata": {
    "id": "19922997"
   },
   "source": [
    "### 5.1 LOGISTIC REGRESSION"
   ]
  },
  {
   "cell_type": "code",
   "execution_count": 15,
   "id": "77657c9d",
   "metadata": {
    "colab": {
     "base_uri": "https://localhost:8080/",
     "height": 213
    },
    "id": "77657c9d",
    "outputId": "21de1e0b-b2e9-4fec-a6bc-91f1b1ab0e25"
   },
   "outputs": [
    {
     "name": "stdout",
     "output_type": "stream",
     "text": [
      "Testing accuracy of the Logistic Regression model is:  0.7898\n"
     ]
    }
   ],
   "source": [
    "logistic_regression = LogisticRegression()\n",
    "logistic_regression.fit(X_train_vec, y_train)\n",
    "y_pred_lr = logistic_regression.predict(X_test_vec)\n",
    "print (\"Testing accuracy of the Logistic Regression model is: \", accuracy_score(y_test, y_pred_lr))"
   ]
  },
  {
   "cell_type": "code",
   "execution_count": 16,
   "id": "b518a4bc",
   "metadata": {
    "colab": {
     "base_uri": "https://localhost:8080/",
     "height": 472
    },
    "id": "b518a4bc",
    "outputId": "aa91ad15-36cb-45e8-ccf3-9a5afa855bfe"
   },
   "outputs": [
    {
     "data": {
      "image/png": "[encoded data removed]",
      "text/plain": [
       "<Figure size 640x480 with 2 Axes>"
      ]
     },
     "metadata": {},
     "output_type": "display_data"
    }
   ],
   "source": [
    "matrix_lr = confusion_matrix(y_test, y_pred_lr)\n",
    "sns.heatmap(matrix_lr, annot=True, fmt=\"d\", cmap=\"Blues\")\n",
    "plt.xlabel(\"Predicted\")\n",
    "plt.ylabel(\"True\")\n",
    "plt.title(\"Confusion Matrix for Logistic Regression\")\n",
    "plt.show()"
   ]
  },
  {
   "cell_type": "markdown",
   "id": "4f6037a1",
   "metadata": {
    "id": "4f6037a1"
   },
   "source": [
    "### 5.2 KNN"
   ]
  },
  {
   "cell_type": "code",
   "execution_count": 17,
   "id": "f7c777a9",
   "metadata": {
    "id": "f7c777a9"
   },
   "outputs": [
    {
     "name": "stdout",
     "output_type": "stream",
     "text": [
      "Testing accuracy of the KNN model is:  0.5386\n"
     ]
    }
   ],
   "source": [
    "knn_classifier = KNeighborsClassifier(n_neighbors=5)\n",
    "knn_classifier.fit(X_train_vec, y_train)\n",
    "y_pred_knn = knn_classifier.predict(X_test_vec)\n",
    "print (\"Testing accuracy of the KNN model is: \", accuracy_score(y_test, y_pred_knn))"
   ]
  },
  {
   "cell_type": "code",
   "execution_count": 18,
   "id": "6c90d284",
   "metadata": {
    "id": "6c90d284"
   },
   "outputs": [
    {
     "data": {
      "image/png": "[encoded data removed]",
      "text/plain": [
       "<Figure size 640x480 with 2 Axes>"
      ]
     },
     "metadata": {},
     "output_type": "display_data"
    }
   ],
   "source": [
    "matrix_knn = confusion_matrix(y_test, y_pred_knn)\n",
    "sns.heatmap(matrix_knn, annot=True, fmt=\"d\", cmap=\"Blues\")\n",
    "plt.xlabel(\"Predicted\")\n",
    "plt.ylabel(\"True\")\n",
    "plt.title(\"Confusion Matrix for KNN\")\n",
    "plt.show()"
   ]
  },
  {
   "cell_type": "markdown",
   "id": "mrXeAVGfCvsr",
   "metadata": {
    "id": "mrXeAVGfCvsr"
   },
   "source": [
    "### 5.3 NAIVE BAYES"
   ]
  },
  {
   "cell_type": "code",
   "execution_count": 19,
   "id": "3bbcded3",
   "metadata": {
    "id": "3bbcded3"
   },
   "outputs": [
    {
     "name": "stdout",
     "output_type": "stream",
     "text": [
      "Testing accuracy of the Naive Bayes model is:  0.7718\n"
     ]
    }
   ],
   "source": [
    "naivebayes = MultinomialNB()\n",
    "naivebayes.fit(X_train_vec, y_train)\n",
    "y_pred_nb = naivebayes.predict(X_test_vec)\n",
    "print (\"Testing accuracy of the Naive Bayes model is: \", accuracy_score(y_test, y_pred_nb))"
   ]
  },
  {
   "cell_type": "code",
   "execution_count": 20,
   "id": "2TxiHCfKBdY-",
   "metadata": {
    "id": "2TxiHCfKBdY-"
   },
   "outputs": [
    {
     "data": {
      "image/png": "[encoded data removed]",
      "text/plain": [
       "<Figure size 640x480 with 2 Axes>"
      ]
     },
     "metadata": {},
     "output_type": "display_data"
    }
   ],
   "source": [
    "matrix_nb = confusion_matrix(y_test, y_pred_nb)\n",
    "sns.heatmap(matrix_nb, annot=True, fmt=\"d\", cmap=\"Blues\")\n",
    "plt.xlabel(\"Predicted\")\n",
    "plt.ylabel(\"True\")\n",
    "plt.title(\"Confusion Matrix for Naive Bayes\")\n",
    "plt.show()"
   ]
  },
  {
   "cell_type": "markdown",
   "id": "TowIEe7TDSqD",
   "metadata": {
    "id": "TowIEe7TDSqD"
   },
   "source": [
    "### 5.4 RANDOM FOREST"
   ]
  },
  {
   "cell_type": "code",
   "execution_count": 21,
   "id": "hyF1zksgDWV0",
   "metadata": {
    "id": "hyF1zksgDWV0"
   },
   "outputs": [
    {
     "name": "stdout",
     "output_type": "stream",
     "text": [
      "Testing accuracy of the Random Forest model is:  0.7792\n"
     ]
    }
   ],
   "source": [
    "model_rf = RandomForestClassifier(n_estimators=100, random_state=42)\n",
    "model_rf.fit(X_train_vec, y_train)\n",
    "y_pred_rf = model_rf.predict(X_test_vec)\n",
    "print (\"Testing accuracy of the Random Forest model is: \", accuracy_score(y_test, y_pred_rf))"
   ]
  },
  {
   "cell_type": "code",
   "execution_count": 22,
   "id": "UO6h59nlDyp0",
   "metadata": {
    "id": "UO6h59nlDyp0"
   },
   "outputs": [
    {
     "data": {
      "image/png": "[encoded data removed]",
      "text/plain": [
       "<Figure size 640x480 with 2 Axes>"
      ]
     },
     "metadata": {},
     "output_type": "display_data"
    }
   ],
   "source": [
    "matrix_rf = confusion_matrix(y_test, y_pred_rf)\n",
    "sns.heatmap(matrix_rf, annot=True, fmt=\"d\", cmap=\"Blues\")\n",
    "plt.xlabel(\"Predicted\")\n",
    "plt.ylabel(\"True\")\n",
    "plt.title(\"Confusion Matrix for Random Forest\")\n",
    "plt.show()"
   ]
  },
  {
   "cell_type": "markdown",
   "id": "YmEffOmpD9GG",
   "metadata": {
    "id": "YmEffOmpD9GG"
   },
   "source": [
    "### 5.5 SUPPORT VECTOR MACHINE"
   ]
  },
  {
   "cell_type": "code",
   "execution_count": 23,
   "id": "ZX3NP6gjEB69",
   "metadata": {
    "id": "ZX3NP6gjEB69"
   },
   "outputs": [
    {
     "name": "stdout",
     "output_type": "stream",
     "text": [
      "Testing accuracy of the Support Vector Machine model is:  0.7972\n"
     ]
    }
   ],
   "source": [
    "model_svm = SVC(kernel='linear', C=1)\n",
    "model_svm.fit(X_train_vec, y_train)\n",
    "y_pred_svm = model_svm.predict(X_test_vec)\n",
    "print (\"Testing accuracy of the Support Vector Machine model is: \", accuracy_score(y_test, y_pred_svm))"
   ]
  },
  {
   "cell_type": "code",
   "execution_count": 24,
   "id": "A5GUHLSbFDBk",
   "metadata": {
    "id": "A5GUHLSbFDBk"
   },
   "outputs": [
    {
     "data": {
      "image/png": "[encoded data removed]",
      "text/plain": [
       "<Figure size 640x480 with 2 Axes>"
      ]
     },
     "metadata": {},
     "output_type": "display_data"
    }
   ],
   "source": [
    "matrix_svm = confusion_matrix(y_test, y_pred_svm)\n",
    "sns.heatmap(matrix_svm, annot=True, fmt=\"d\", cmap=\"Blues\")\n",
    "plt.xlabel(\"Predicted\")\n",
    "plt.ylabel(\"True\")\n",
    "plt.title(\"Confusion Matrix for Support Vector Machine\")\n",
    "plt.show()"
   ]
  }
 ],
 "metadata": {
  "colab": {
   "provenance": []
  },
  "kernelspec": {
   "display_name": "Python 3 (ipykernel)",
   "language": "python",
   "name": "python3"
  },
  "language_info": {
   "codemirror_mode": {
    "name": "ipython",
    "version": 3
   },
   "file_extension": ".py",
   "mimetype": "text/x-python",
   "name": "python",
   "nbconvert_exporter": "python",
   "pygments_lexer": "ipython3",
   "version": "3.9.13"
  }
 },
 "nbformat": 4,
 "nbformat_minor": 5
}
